{
 "cells": [
  {
   "cell_type": "markdown",
   "metadata": {},
   "source": [
    "# Pandas"
   ]
  },
  {
   "cell_type": "markdown",
   "metadata": {},
   "source": [
    "Pandas es una libreria utilizada para la manipulación y analisis de datos tabulares y series temporales. Con Pandas podemos interactuar con DataFrames o Series, que permiten cargar, limpiar, transformar y analizar datos de manera eficiente."
   ]
  },
  {
   "cell_type": "markdown",
   "metadata": {},
   "source": [
    "Para hacer uso de Pandas debemos importar la libreria en nuestro proyecto:"
   ]
  },
  {
   "cell_type": "code",
   "execution_count": 3,
   "metadata": {},
   "outputs": [],
   "source": [
    "import pandas as pd"
   ]
  },
  {
   "cell_type": "code",
   "execution_count": 10,
   "metadata": {},
   "outputs": [],
   "source": [
    "path = \"/home/joao/Descargas/datos_rrss.xlsx\""
   ]
  },
  {
   "cell_type": "code",
   "execution_count": 15,
   "metadata": {},
   "outputs": [
    {
     "name": "stdout",
     "output_type": "stream",
     "text": [
      "        Name  Amount  Status  Year\n",
      "0   Facebook    2449    True  2006\n",
      "1    Twitter     339   False  2006\n",
      "2  Instagram    1000    True  2010\n"
     ]
    }
   ],
   "source": [
    "data = pd.read_excel(path, sheet_name='Hoja2', names=[\"Name\", \"Amount\", \"Status\", \"Year\"])\n",
    "print(data)"
   ]
  },
  {
   "cell_type": "code",
   "execution_count": 16,
   "metadata": {},
   "outputs": [
    {
     "name": "stdout",
     "output_type": "stream",
     "text": [
      "        Name  Amount  Status  Year\n",
      "0   Facebook    2449    True  2006\n",
      "1    Twitter     339   False  2006\n",
      "2  Instagram    1000    True  2010\n",
      "3    YouTube    2000   False  2005\n",
      "4   LinkedIn     663   False  2003\n",
      "5   WhatsApp    1600    True  2009\n"
     ]
    }
   ],
   "source": [
    "data = pd.read_excel(path, sheet_name='Hoja3', header=None, names=[\"Name\", \"Amount\", \"Status\", \"Year\"])\n",
    "print(data)"
   ]
  }
 ],
 "metadata": {
  "kernelspec": {
   "display_name": "venv",
   "language": "python",
   "name": "python3"
  },
  "language_info": {
   "codemirror_mode": {
    "name": "ipython",
    "version": 3
   },
   "file_extension": ".py",
   "mimetype": "text/x-python",
   "name": "python",
   "nbconvert_exporter": "python",
   "pygments_lexer": "ipython3",
   "version": "3.12.3"
  }
 },
 "nbformat": 4,
 "nbformat_minor": 2
}
